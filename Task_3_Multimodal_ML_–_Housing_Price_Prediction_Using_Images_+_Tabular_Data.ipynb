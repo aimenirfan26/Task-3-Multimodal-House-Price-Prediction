{
  "nbformat": 4,
  "nbformat_minor": 0,
  "metadata": {
    "colab": {
      "provenance": []
    },
    "kernelspec": {
      "name": "python3",
      "display_name": "Python 3"
    },
    "language_info": {
      "name": "python"
    }
  },
  "cells": [
    {
      "cell_type": "markdown",
      "source": [
        "1. Install Required Libraries"
      ],
      "metadata": {
        "id": "GU35SlDc392A"
      }
    },
    {
      "cell_type": "code",
      "execution_count": 4,
      "metadata": {
        "id": "9tT_oDFwkVc8"
      },
      "outputs": [],
      "source": [
        "# Run this first in Colab\n",
        "!pip install -q kagglehub torch torchvision torchaudio pandas scikit-learn joblib pillow tqdm gradio\n"
      ]
    },
    {
      "cell_type": "markdown",
      "source": [
        "2. Download Tabular Dataset (House Prices)"
      ],
      "metadata": {
        "id": "foX04rpX3_qb"
      }
    },
    {
      "cell_type": "code",
      "source": [
        "!kaggle competitions download -c house-prices-advanced-regression-techniques -p ./house_prices_tabular\n",
        "!unzip -o ./house_prices_tabular/house-prices-advanced-regression-techniques.zip -d ./house_prices_tabular\n"
      ],
      "metadata": {
        "colab": {
          "base_uri": "https://localhost:8080/"
        },
        "id": "9-wNyoifqw_W",
        "outputId": "5fa11e1a-7154-459d-a4c2-d8b68711c7ef"
      },
      "execution_count": 9,
      "outputs": [
        {
          "output_type": "stream",
          "name": "stdout",
          "text": [
            "Downloading house-prices-advanced-regression-techniques.zip to ./house_prices_tabular\n",
            "\r  0% 0.00/199k [00:00<?, ?B/s]\n",
            "\r100% 199k/199k [00:00<00:00, 426MB/s]\n",
            "Archive:  ./house_prices_tabular/house-prices-advanced-regression-techniques.zip\n",
            "  inflating: ./house_prices_tabular/data_description.txt  \n",
            "  inflating: ./house_prices_tabular/sample_submission.csv  \n",
            "  inflating: ./house_prices_tabular/test.csv  \n",
            "  inflating: ./house_prices_tabular/train.csv  \n"
          ]
        }
      ]
    },
    {
      "cell_type": "markdown",
      "source": [
        "3. Download House Images Dataset"
      ],
      "metadata": {
        "id": "4CFZ31_A4DHy"
      }
    },
    {
      "cell_type": "code",
      "source": [
        "import kagglehub\n",
        "\n",
        "image_path = kagglehub.dataset_download(\"ted8080/house-prices-and-images-socal\")\n",
        "print(\"Path to image dataset:\", image_path)\n"
      ],
      "metadata": {
        "colab": {
          "base_uri": "https://localhost:8080/"
        },
        "id": "HevxGBUwq21o",
        "outputId": "79a091d4-a15d-4e76-9fcc-f33411cb4f9d"
      },
      "execution_count": 10,
      "outputs": [
        {
          "output_type": "stream",
          "name": "stdout",
          "text": [
            "Downloading from https://www.kaggle.com/api/v1/datasets/download/ted8080/house-prices-and-images-socal?dataset_version_number=1...\n"
          ]
        },
        {
          "output_type": "stream",
          "name": "stderr",
          "text": [
            "100%|██████████| 369M/369M [00:07<00:00, 53.0MB/s]"
          ]
        },
        {
          "output_type": "stream",
          "name": "stdout",
          "text": [
            "Extracting files...\n"
          ]
        },
        {
          "output_type": "stream",
          "name": "stderr",
          "text": [
            "\n"
          ]
        },
        {
          "output_type": "stream",
          "name": "stdout",
          "text": [
            "Path to image dataset: /root/.cache/kagglehub/datasets/ted8080/house-prices-and-images-socal/versions/1\n"
          ]
        }
      ]
    },
    {
      "cell_type": "markdown",
      "source": [
        "4. Load Tabular + Image Dataset"
      ],
      "metadata": {
        "id": "2oR693Cb4GUR"
      }
    },
    {
      "cell_type": "code",
      "source": [
        "import os\n",
        "import pandas as pd\n",
        "\n",
        "# Correct dataset paths\n",
        "tabular_path = \"/root/.cache/kagglehub/datasets/ted8080/house-prices-and-images-socal/versions/1/socal2.csv\"\n",
        "image_dir = \"/root/.cache/kagglehub/datasets/ted8080/house-prices-and-images-socal/versions/1/socal2/socal_pics\"\n",
        "\n",
        "# Load tabular data\n",
        "tabular_data = pd.read_csv(tabular_path)\n",
        "print(\"Tabular Data Shape:\", tabular_data.shape)\n",
        "print(tabular_data.head())\n",
        "\n",
        "# ✅ Fix: Target column is 'price' in this dataset\n",
        "target_column = \"price\"\n",
        "\n",
        "# Collect image paths & match with tabular dataset\n",
        "image_paths = []\n",
        "all_ids = []\n",
        "\n",
        "for fname in os.listdir(image_dir)[:2000]:  # limit for testing\n",
        "    if fname.endswith(\".jpg\") or fname.endswith(\".png\"):\n",
        "        img_id = int(os.path.splitext(fname)[0])  # extract numeric id\n",
        "        img_path = os.path.join(image_dir, fname)\n",
        "        if img_id in tabular_data[\"image_id\"].values:\n",
        "            image_paths.append(img_path)\n",
        "            all_ids.append(img_id)\n",
        "\n",
        "# Create merged dataframe with paths\n",
        "merged_df = tabular_data[tabular_data[\"image_id\"].isin(all_ids)].copy()\n",
        "merged_df[\"image_path\"] = image_paths\n",
        "\n",
        "print(\"Final merged dataset shape:\", merged_df.shape)\n",
        "print(merged_df[[ \"image_id\", \"street\", \"citi\", \"bed\", \"bath\", \"sqft\", \"price\", \"image_path\"]].head())\n"
      ],
      "metadata": {
        "colab": {
          "base_uri": "https://localhost:8080/"
        },
        "id": "uuKeznWlsUC8",
        "outputId": "6a8da14b-d36e-4962-940c-5d1a491ea0a2"
      },
      "execution_count": 28,
      "outputs": [
        {
          "output_type": "stream",
          "name": "stdout",
          "text": [
            "Tabular Data Shape: (15474, 8)\n",
            "   image_id                 street             citi  n_citi  bed  bath  sqft  \\\n",
            "0         0  1317 Van Buren Avenue  Salton City, CA     317    3   2.0  1560   \n",
            "1         1         124 C Street W      Brawley, CA      48    3   2.0   713   \n",
            "2         2        2304 Clark Road     Imperial, CA     152    3   1.0   800   \n",
            "3         3     755 Brawley Avenue      Brawley, CA      48    3   1.0  1082   \n",
            "4         4  2207 R Carrillo Court     Calexico, CA      55    4   3.0  2547   \n",
            "\n",
            "    price  \n",
            "0  201900  \n",
            "1  228500  \n",
            "2  273950  \n",
            "3  350000  \n",
            "4  385100  \n",
            "Final merged dataset shape: (2000, 9)\n",
            "    image_id                     street                 citi  bed  bath  sqft  \\\n",
            "1          1             124 C Street W          Brawley, CA    3   2.0   713   \n",
            "12        12         818 155th Street W         Rosamond, CA    2   2.0  2466   \n",
            "17        17  12471 Boy Scout Camp Road     Frazier Park, CA    8   3.1  4236   \n",
            "20        20           632 Grove Street            Arvin, CA    4   2.0  1573   \n",
            "24        24          19800 Nonie Court  California City, CA    3   2.0  1533   \n",
            "\n",
            "      price                                         image_path  \n",
            "1    228500  /root/.cache/kagglehub/datasets/ted8080/house-...  \n",
            "12  1488000  /root/.cache/kagglehub/datasets/ted8080/house-...  \n",
            "17  1850000  /root/.cache/kagglehub/datasets/ted8080/house-...  \n",
            "20   205000  /root/.cache/kagglehub/datasets/ted8080/house-...  \n",
            "24   229000  /root/.cache/kagglehub/datasets/ted8080/house-...  \n"
          ]
        }
      ]
    },
    {
      "cell_type": "markdown",
      "source": [
        "5. Preprocessing Tabular + Image Data & Define Model"
      ],
      "metadata": {
        "id": "vrYVmDfC4LYC"
      }
    },
    {
      "cell_type": "code",
      "source": [
        "import torch\n",
        "from torch.utils.data import Dataset\n",
        "from sklearn.preprocessing import StandardScaler\n",
        "from PIL import Image\n",
        "import numpy as np\n",
        "import torch.nn as nn\n",
        "from torchvision import transforms\n",
        "\n",
        "# -------------------------\n",
        "# 1. Tabular Preprocessing\n",
        "# -------------------------\n",
        "\n",
        "# Select numeric features\n",
        "num_features = [\"bed\", \"bath\", \"sqft\"]\n",
        "scaler = StandardScaler()\n",
        "tabular_scaled = scaler.fit_transform(merged_df[num_features])\n",
        "\n",
        "# Target (price)\n",
        "y = merged_df[\"price\"].values\n",
        "\n",
        "# -------------------------\n",
        "# 2. Image Preprocessing\n",
        "# -------------------------\n",
        "\n",
        "# Define transforms (resize + tensor + normalize)\n",
        "img_transform = transforms.Compose([\n",
        "    transforms.Resize((128, 128)),   # Resize all images to 128x128\n",
        "    transforms.ToTensor(),           # Convert to tensor\n",
        "    transforms.Normalize([0.5, 0.5, 0.5], [0.5, 0.5, 0.5])  # normalize 3 channels\n",
        "])\n",
        "\n",
        "# -------------------------\n",
        "# 3. Custom Dataset\n",
        "# -------------------------\n",
        "\n",
        "class HousePriceDataset(Dataset):\n",
        "    def __init__(self, df, tabular_data, targets, transform=None):\n",
        "        self.df = df.reset_index(drop=True)\n",
        "        self.tabular_data = tabular_data\n",
        "        self.targets = targets\n",
        "        self.transform = transform\n",
        "\n",
        "    def __len__(self):\n",
        "        return len(self.df)\n",
        "\n",
        "    def __getitem__(self, idx):\n",
        "        # ✅ Fix column name to match Step 3\n",
        "        img_path = self.df.iloc[idx][\"image_path\"]\n",
        "\n",
        "        # Open image\n",
        "        image = Image.open(img_path).convert(\"RGB\")\n",
        "        if self.transform:\n",
        "            image = self.transform(image)\n",
        "\n",
        "        # Tabular features\n",
        "        tab_x = torch.tensor(self.tabular_data[idx], dtype=torch.float32)\n",
        "\n",
        "        # Target\n",
        "        y = torch.tensor(self.targets[idx], dtype=torch.float32)\n",
        "\n",
        "        return image, tab_x, y\n",
        "\n",
        "\n",
        "# -------------------------\n",
        "# 4. Define Model\n",
        "# -------------------------\n",
        "\n",
        "class HousePriceModel(nn.Module):\n",
        "    def __init__(self, tabular_input_dim):\n",
        "        super(HousePriceModel, self).__init__()\n",
        "\n",
        "        # CNN for image\n",
        "        self.cnn = nn.Sequential(\n",
        "            nn.Conv2d(3, 16, 3, stride=2, padding=1),\n",
        "            nn.ReLU(),\n",
        "            nn.Conv2d(16, 32, 3, stride=2, padding=1),\n",
        "            nn.ReLU(),\n",
        "            nn.AdaptiveAvgPool2d((4, 4))\n",
        "        )\n",
        "        self.cnn_out_dim = 32 * 4 * 4\n",
        "\n",
        "        # Tabular MLP\n",
        "        self.tabular_mlp = nn.Sequential(\n",
        "            nn.Linear(tabular_input_dim, 64),\n",
        "            nn.ReLU(),\n",
        "            nn.Linear(64, 32),\n",
        "            nn.ReLU()\n",
        "        )\n",
        "\n",
        "        # Combined layers\n",
        "        self.fc = nn.Sequential(\n",
        "            nn.Linear(self.cnn_out_dim + 32, 64),\n",
        "            nn.ReLU(),\n",
        "            nn.Linear(64, 1)\n",
        "        )\n",
        "\n",
        "    def forward(self, tab_x, img_x):\n",
        "        img_feat = self.cnn(img_x).view(img_x.size(0), -1)\n",
        "        tab_feat = self.tabular_mlp(tab_x)\n",
        "        combined = torch.cat([img_feat, tab_feat], dim=1)\n",
        "        return self.fc(combined)\n",
        "\n",
        "\n",
        "# -------------------------\n",
        "# 5. Test Dataset\n",
        "# -------------------------\n",
        "\n",
        "dataset = HousePriceDataset(merged_df, tabular_scaled, y, transform=img_transform)\n",
        "\n",
        "sample_img, sample_tabular, sample_price = dataset[0]\n",
        "print(\"Image shape:\", sample_img.shape)\n",
        "print(\"Tabular features:\", sample_tabular)\n",
        "print(\"Target price:\", sample_price)\n"
      ],
      "metadata": {
        "colab": {
          "base_uri": "https://localhost:8080/"
        },
        "id": "vGXQdo_eu8f2",
        "outputId": "850587d9-ba2e-4137-a5a7-c28c2f801c82"
      },
      "execution_count": 48,
      "outputs": [
        {
          "output_type": "stream",
          "name": "stdout",
          "text": [
            "Image shape: torch.Size([3, 128, 128])\n",
            "Tabular features: tensor([-0.4857, -0.4947, -1.3583])\n",
            "Target price: tensor(228500.)\n"
          ]
        }
      ]
    },
    {
      "cell_type": "markdown",
      "source": [
        "6. DataLoader Setup and Train/Test Split"
      ],
      "metadata": {
        "id": "WBG4aPGz4Ri5"
      }
    },
    {
      "cell_type": "code",
      "source": [
        "from torch.utils.data import DataLoader, random_split\n",
        "\n",
        "# Define device\n",
        "device = \"cuda\" if torch.cuda.is_available() else \"cpu\"\n",
        "\n",
        "# Split dataset into train/validation/test\n",
        "total_size = len(dataset)\n",
        "train_size = int(0.7 * total_size)\n",
        "valid_size = int(0.15 * total_size)\n",
        "test_size  = total_size - train_size - valid_size\n",
        "\n",
        "train_ds, valid_ds, test_ds = random_split(dataset, [train_size, valid_size, test_size], generator=torch.Generator().manual_seed(42))\n",
        "\n",
        "print(f\"Train size: {len(train_ds)}, Validation size: {len(valid_ds)}, Test size: {len(test_ds)}\")\n",
        "\n",
        "# Define batch size\n",
        "batch_size = 16\n",
        "\n",
        "# Create DataLoaders\n",
        "train_loader = DataLoader(train_ds, batch_size=batch_size, shuffle=True)\n",
        "valid_loader = DataLoader(valid_ds, batch_size=batch_size, shuffle=False)\n",
        "test_loader  = DataLoader(test_ds,  batch_size=batch_size, shuffle=False)\n",
        "\n",
        "# Test a batch\n",
        "sample_batch = next(iter(train_loader))\n",
        "sample_imgs, sample_tabs, sample_prices = sample_batch\n",
        "print(\"Sample batch images shape:\", sample_imgs.shape)\n",
        "print(\"Sample batch tabular shape:\", sample_tabs.shape)\n",
        "print(\"Sample batch targets shape:\", sample_prices.shape)\n"
      ],
      "metadata": {
        "colab": {
          "base_uri": "https://localhost:8080/"
        },
        "id": "qlCRqHkBvFCX",
        "outputId": "f99f25aa-95e2-43cb-d3d7-615354ddea80"
      },
      "execution_count": 49,
      "outputs": [
        {
          "output_type": "stream",
          "name": "stdout",
          "text": [
            "Train size: 1400, Validation size: 300, Test size: 300\n",
            "Sample batch images shape: torch.Size([16, 3, 128, 128])\n",
            "Sample batch tabular shape: torch.Size([16, 3])\n",
            "Sample batch targets shape: torch.Size([16])\n"
          ]
        }
      ]
    },
    {
      "cell_type": "markdown",
      "source": [
        "7. Model Training Setup"
      ],
      "metadata": {
        "id": "Se1F6eD24V4z"
      }
    },
    {
      "cell_type": "code",
      "source": [
        "\n",
        "import torch.optim as optim\n",
        "import torch.nn as nn\n",
        "\n",
        "# Get tabular input dimension\n",
        "tabular_input_dim = tabular_scaled.shape[1]\n",
        "\n",
        "# Instantiate the model\n",
        "model = HousePriceModel(tabular_input_dim).to(device)\n",
        "\n",
        "# Loss function\n",
        "criterion = nn.MSELoss()\n",
        "\n",
        "# Optimizer\n",
        "optimizer = optim.Adam(model.parameters(), lr=1e-3, weight_decay=1e-5)\n",
        "\n",
        "# Learning rate scheduler (optional) – fixed for PyTorch version\n",
        "scheduler = optim.lr_scheduler.ReduceLROnPlateau(\n",
        "    optimizer,\n",
        "    mode='min',\n",
        "    factor=0.5,\n",
        "    patience=5\n",
        ")\n",
        "\n",
        "# Training parameters\n",
        "num_epochs = 20\n",
        "\n",
        "print(f\"Model ready on device: {device}\")\n",
        "print(f\"Number of epochs: {num_epochs}, Batch size: {batch_size}\")\n"
      ],
      "metadata": {
        "colab": {
          "base_uri": "https://localhost:8080/"
        },
        "id": "E1VORh5fvL5l",
        "outputId": "11e9fe57-921b-408f-8d93-ce6526dbb76b"
      },
      "execution_count": 51,
      "outputs": [
        {
          "output_type": "stream",
          "name": "stdout",
          "text": [
            "Model ready on device: cpu\n",
            "Number of epochs: 20, Batch size: 16\n"
          ]
        }
      ]
    },
    {
      "cell_type": "markdown",
      "source": [
        "8. Training Loop"
      ],
      "metadata": {
        "id": "w5LlqDLb4Zdx"
      }
    },
    {
      "cell_type": "code",
      "source": [
        "import time\n",
        "\n",
        "best_val_loss = float(\"inf\")\n",
        "\n",
        "for epoch in range(num_epochs):\n",
        "    start_time = time.time()\n",
        "\n",
        "    # === Training ===\n",
        "    model.train()\n",
        "    train_loss = 0.0\n",
        "    for imgs, tabs, targets in train_loader:\n",
        "        imgs, tabs, targets = imgs.to(device), tabs.to(device), targets.to(device).unsqueeze(1)\n",
        "\n",
        "        optimizer.zero_grad()\n",
        "        outputs = model(tabs, imgs)\n",
        "        loss = criterion(outputs, targets)\n",
        "        loss.backward()\n",
        "        optimizer.step()\n",
        "\n",
        "        train_loss += loss.item() * imgs.size(0)\n",
        "\n",
        "    train_loss /= len(train_loader.dataset)\n",
        "\n",
        "    # === Validation ===\n",
        "    model.eval()\n",
        "    val_loss = 0.0\n",
        "    with torch.no_grad():\n",
        "        for imgs, tabs, targets in valid_loader:\n",
        "            imgs, tabs, targets = imgs.to(device), tabs.to(device), targets.to(device).unsqueeze(1)\n",
        "            outputs = model(tabs, imgs)\n",
        "            loss = criterion(outputs, targets)\n",
        "            val_loss += loss.item() * imgs.size(0)\n",
        "    val_loss /= len(valid_loader.dataset)\n",
        "\n",
        "    # Step scheduler\n",
        "    scheduler.step(val_loss)\n",
        "\n",
        "    end_time = time.time()\n",
        "    epoch_mins, epoch_secs = divmod(int(end_time - start_time), 60)\n",
        "\n",
        "    print(f\"Epoch {epoch+1}/{num_epochs} | \"\n",
        "          f\"Train Loss: {train_loss:.4f} | Val Loss: {val_loss:.4f} | \"\n",
        "          f\"Time: {epoch_mins}m {epoch_secs}s\")\n",
        "\n",
        "    # Save best model\n",
        "    if val_loss < best_val_loss:\n",
        "        best_val_loss = val_loss\n",
        "        MODEL_PATH = \"house_price_model.pth\"\n",
        "        torch.save(model.state_dict(), MODEL_PATH)\n",
        "        print(f\"Best model saved at {MODEL_PATH}\")\n"
      ],
      "metadata": {
        "colab": {
          "base_uri": "https://localhost:8080/"
        },
        "id": "aCwjn_ozvOSu",
        "outputId": "5497f874-ca6a-4a93-fd14-620538721285"
      },
      "execution_count": 52,
      "outputs": [
        {
          "output_type": "stream",
          "name": "stdout",
          "text": [
            "Epoch 1/20 | Train Loss: 633201257910.8572 | Val Loss: 641647099248.6400 | Time: 0m 9s\n",
            "Best model saved at house_price_model.pth\n",
            "Epoch 2/20 | Train Loss: 583705935778.3772 | Val Loss: 500135847963.3066 | Time: 0m 8s\n",
            "Best model saved at house_price_model.pth\n",
            "Epoch 3/20 | Train Loss: 309945761089.8286 | Val Loss: 182233595630.9333 | Time: 0m 9s\n",
            "Best model saved at house_price_model.pth\n",
            "Epoch 4/20 | Train Loss: 163700318488.8686 | Val Loss: 166199872334.5067 | Time: 0m 9s\n",
            "Best model saved at house_price_model.pth\n",
            "Epoch 5/20 | Train Loss: 161340520810.7886 | Val Loss: 164836617912.3200 | Time: 0m 8s\n",
            "Best model saved at house_price_model.pth\n",
            "Epoch 6/20 | Train Loss: 159280291395.2914 | Val Loss: 161756724428.8000 | Time: 0m 9s\n",
            "Best model saved at house_price_model.pth\n",
            "Epoch 7/20 | Train Loss: 156591783584.9143 | Val Loss: 158822953615.3600 | Time: 0m 9s\n",
            "Best model saved at house_price_model.pth\n",
            "Epoch 8/20 | Train Loss: 153409927952.0914 | Val Loss: 155040080418.1333 | Time: 0m 9s\n",
            "Best model saved at house_price_model.pth\n",
            "Epoch 9/20 | Train Loss: 149023756405.0286 | Val Loss: 150247663697.9200 | Time: 0m 8s\n",
            "Best model saved at house_price_model.pth\n",
            "Epoch 10/20 | Train Loss: 144771048196.3886 | Val Loss: 145231203751.2533 | Time: 0m 9s\n",
            "Best model saved at house_price_model.pth\n",
            "Epoch 11/20 | Train Loss: 139021718065.7372 | Val Loss: 140018544312.3200 | Time: 0m 9s\n",
            "Best model saved at house_price_model.pth\n",
            "Epoch 12/20 | Train Loss: 133817077128.0457 | Val Loss: 134683647563.0933 | Time: 0m 8s\n",
            "Best model saved at house_price_model.pth\n",
            "Epoch 13/20 | Train Loss: 128279487681.0971 | Val Loss: 130086775248.2133 | Time: 0m 9s\n",
            "Best model saved at house_price_model.pth\n",
            "Epoch 14/20 | Train Loss: 123285675259.6114 | Val Loss: 126268972236.8000 | Time: 0m 9s\n",
            "Best model saved at house_price_model.pth\n",
            "Epoch 15/20 | Train Loss: 119598141276.1600 | Val Loss: 123565330432.0000 | Time: 0m 8s\n",
            "Best model saved at house_price_model.pth\n",
            "Epoch 16/20 | Train Loss: 116600502915.6572 | Val Loss: 121677481355.9467 | Time: 0m 8s\n",
            "Best model saved at house_price_model.pth\n",
            "Epoch 17/20 | Train Loss: 114398885899.7029 | Val Loss: 120512467599.3600 | Time: 0m 8s\n",
            "Best model saved at house_price_model.pth\n",
            "Epoch 18/20 | Train Loss: 112614947178.7886 | Val Loss: 120046768128.0000 | Time: 0m 8s\n",
            "Best model saved at house_price_model.pth\n",
            "Epoch 19/20 | Train Loss: 111782171864.5029 | Val Loss: 119209256441.1733 | Time: 0m 8s\n",
            "Best model saved at house_price_model.pth\n",
            "Epoch 20/20 | Train Loss: 110791762434.9257 | Val Loss: 118791243202.5600 | Time: 0m 8s\n",
            "Best model saved at house_price_model.pth\n"
          ]
        }
      ]
    },
    {
      "cell_type": "markdown",
      "source": [
        "9. Model Evaluation on Test Set"
      ],
      "metadata": {
        "id": "i7lDEnyM4l8H"
      }
    },
    {
      "cell_type": "code",
      "source": [
        "\n",
        "from sklearn.metrics import mean_absolute_error, mean_squared_error\n",
        "import math\n",
        "\n",
        "# Load the best saved model\n",
        "loaded_model = HousePriceModel(tabular_input_dim).to(device)\n",
        "loaded_model.load_state_dict(torch.load(MODEL_PATH))\n",
        "loaded_model.eval()\n",
        "\n",
        "# Store predictions and true values\n",
        "y_true = []\n",
        "y_pred = []\n",
        "\n",
        "with torch.no_grad():\n",
        "    for imgs, tabs, targets in test_loader:\n",
        "        imgs, tabs = imgs.to(device), tabs.to(device)\n",
        "        outputs = loaded_model(tabs, imgs)\n",
        "        y_true.extend(targets.numpy())\n",
        "        y_pred.extend(outputs.cpu().numpy().flatten())\n",
        "\n",
        "# Compute metrics\n",
        "mae = mean_absolute_error(y_true, y_pred)\n",
        "rmse = math.sqrt(mean_squared_error(y_true, y_pred))\n",
        "\n",
        "print(f\"Test MAE: {mae:.2f}\")\n",
        "print(f\"Test RMSE: {rmse:.2f}\")\n"
      ],
      "metadata": {
        "colab": {
          "base_uri": "https://localhost:8080/"
        },
        "id": "34Egs31ivdkl",
        "outputId": "a6a57a95-30b6-42c2-d3ee-214c6dc79bb7"
      },
      "execution_count": 53,
      "outputs": [
        {
          "output_type": "stream",
          "name": "stdout",
          "text": [
            "Test MAE: 232567.48\n",
            "Test RMSE: 320440.89\n"
          ]
        }
      ]
    },
    {
      "cell_type": "markdown",
      "source": [
        "10. Save and Load Model for Inference"
      ],
      "metadata": {
        "id": "lIEEPoH54rlr"
      }
    },
    {
      "cell_type": "code",
      "source": [
        "\n",
        "# 1️⃣ Save the model state dict\n",
        "MODEL_PATH = \"house_price_model.pth\"\n",
        "torch.save(model.state_dict(), MODEL_PATH)\n",
        "print(f\"Model saved at {MODEL_PATH}\")\n",
        "\n",
        "# 2️⃣ Load the model for inference\n",
        "loaded_model = HousePriceModel(tabular_input_dim).to(device)\n",
        "loaded_model.load_state_dict(torch.load(MODEL_PATH))\n",
        "loaded_model.eval()\n",
        "print(\"Model loaded and ready for inference.\")\n",
        "\n",
        "# 3️⃣ Test a single sample from test set\n",
        "sample_img, sample_tab, sample_price = test_ds[0]\n",
        "sample_img = sample_img.unsqueeze(0).to(device)\n",
        "sample_tab = sample_tab.unsqueeze(0).to(device)\n",
        "\n",
        "with torch.no_grad():\n",
        "    pred_price = loaded_model(sample_tab, sample_img).item()\n",
        "\n",
        "print(f\"True price: {sample_price}, Predicted price: {pred_price:.2f}\")\n"
      ],
      "metadata": {
        "colab": {
          "base_uri": "https://localhost:8080/"
        },
        "id": "Z2O0liD-vy4a",
        "outputId": "3d6ec7e9-914d-4857-866a-5a476949398b"
      },
      "execution_count": 54,
      "outputs": [
        {
          "output_type": "stream",
          "name": "stdout",
          "text": [
            "Model saved at house_price_model.pth\n",
            "Model loaded and ready for inference.\n",
            "True price: 325000.0, Predicted price: 486212.62\n"
          ]
        }
      ]
    },
    {
      "cell_type": "markdown",
      "source": [
        "11. Gradio Web App for Multimodal House Price Prediction"
      ],
      "metadata": {
        "id": "lcykuG_F4vIi"
      }
    },
    {
      "cell_type": "code",
      "source": [
        "import gradio as gr\n",
        "import torch\n",
        "from PIL import Image\n",
        "import numpy as np\n",
        "from torchvision import transforms\n",
        "from sklearn.preprocessing import StandardScaler\n",
        "\n",
        "# Load trained model\n",
        "loaded_model = HousePriceModel(tabular_input_dim).to(device)\n",
        "loaded_model.load_state_dict(torch.load(\"house_price_model.pth\"))\n",
        "loaded_model.eval()\n",
        "\n",
        "# Image preprocessing\n",
        "img_transform = transforms.Compose([\n",
        "    transforms.Resize((128, 128)),\n",
        "    transforms.ToTensor(),\n",
        "    transforms.Normalize([0.5], [0.5])\n",
        "])\n",
        "\n",
        "# Standard scaler (use the one fitted on training data)\n",
        "scaler = StandardScaler()\n",
        "scaler.fit(tabular_scaled)  # from Step 4\n",
        "\n",
        "# Prediction function\n",
        "def predict_house_price(bed, bath, sqft, img):\n",
        "    # Tabular\n",
        "    tab_features = np.array([[bed, bath, sqft]])\n",
        "    tab_scaled = torch.tensor(scaler.transform(tab_features), dtype=torch.float32).to(device)\n",
        "\n",
        "    # Image\n",
        "    img = img.convert(\"RGB\")\n",
        "    img_tensor = img_transform(img).unsqueeze(0).to(device)\n",
        "\n",
        "    # Prediction\n",
        "    with torch.no_grad():\n",
        "        pred_price = loaded_model(tab_scaled, img_tensor).item()\n",
        "\n",
        "    return round(pred_price, 2)\n",
        "\n",
        "# Gradio interface\n",
        "with gr.Blocks() as demo:\n",
        "    gr.Markdown(\"## 🏡 Multimodal House Price Predictor\")\n",
        "\n",
        "    with gr.Row():\n",
        "        bed_input = gr.Number(label=\"Bedrooms\", value=3)\n",
        "        bath_input = gr.Number(label=\"Bathrooms\", value=2)\n",
        "        sqft_input = gr.Number(label=\"Square Footage\", value=1500)\n",
        "\n",
        "    img_input = gr.Image(type=\"pil\", label=\"Upload House Image\")\n",
        "\n",
        "    output = gr.Number(label=\"Predicted Price ($)\")\n",
        "\n",
        "    submit_btn = gr.Button(\"Predict\")\n",
        "    submit_btn.click(\n",
        "        fn=predict_house_price,\n",
        "        inputs=[bed_input, bath_input, sqft_input, img_input],\n",
        "        outputs=output\n",
        "    )\n",
        "\n",
        "# Launch\n",
        "demo.launch(share=True)\n"
      ],
      "metadata": {
        "colab": {
          "base_uri": "https://localhost:8080/",
          "height": 612
        },
        "id": "gPqAjMviwO5J",
        "outputId": "46f9a19d-e7f0-48e5-8973-945f82b01fb5"
      },
      "execution_count": 56,
      "outputs": [
        {
          "output_type": "stream",
          "name": "stdout",
          "text": [
            "Colab notebook detected. To show errors in colab notebook, set debug=True in launch()\n",
            "* Running on public URL: https://adfd0bdf5269d632a7.gradio.live\n",
            "\n",
            "This share link expires in 1 week. For free permanent hosting and GPU upgrades, run `gradio deploy` from the terminal in the working directory to deploy to Hugging Face Spaces (https://huggingface.co/spaces)\n"
          ]
        },
        {
          "output_type": "display_data",
          "data": {
            "text/plain": [
              "<IPython.core.display.HTML object>"
            ],
            "text/html": [
              "<div><iframe src=\"https://adfd0bdf5269d632a7.gradio.live\" width=\"100%\" height=\"500\" allow=\"autoplay; camera; microphone; clipboard-read; clipboard-write;\" frameborder=\"0\" allowfullscreen></iframe></div>"
            ]
          },
          "metadata": {}
        },
        {
          "output_type": "execute_result",
          "data": {
            "text/plain": []
          },
          "metadata": {},
          "execution_count": 56
        }
      ]
    }
  ]
}